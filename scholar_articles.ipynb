{
 "cells": [
  {
   "cell_type": "markdown",
   "id": "dominant-hierarchy",
   "metadata": {},
   "source": [
    "### Загрузка данных"
   ]
  },
  {
   "cell_type": "code",
   "execution_count": 1,
   "id": "provincial-waste",
   "metadata": {},
   "outputs": [],
   "source": [
    "%mkdir data\n",
    "!wget https://s3-us-west-2.amazonaws.com/ai2-s2-research-public/open-corpus/2021-03-01/manifest.txt\n",
    "! ./script.sh manifest.txt"
   ]
  },
  {
   "cell_type": "markdown",
   "id": "further-pizza",
   "metadata": {},
   "source": [
    "### Обработка и запись в pandas"
   ]
  },
  {
   "cell_type": "code",
   "execution_count": 2,
   "id": "geographic-triumph",
   "metadata": {
    "tags": []
   },
   "outputs": [],
   "source": [
    "import gzip\n",
    "import os\n",
    "import json\n",
    "from collections import defaultdict\n",
    "from tqdm.auto import tqdm\n",
    "import pandas as pd\n",
    "import string\n",
    "import numpy as np"
   ]
  },
  {
   "cell_type": "code",
   "execution_count": 3,
   "id": "indonesian-controversy",
   "metadata": {},
   "outputs": [],
   "source": [
    "with open(\"manifest.txt\", \"r\") as f:\n",
    "    file_names = list(map(str.strip, f.readlines()[:30]))"
   ]
  },
  {
   "cell_type": "code",
   "execution_count": 4,
   "id": "desirable-medicaid",
   "metadata": {},
   "outputs": [
    {
     "data": {
      "application/vnd.jupyter.widget-view+json": {
       "model_id": "abfcf41b0d224b908f749d3b2c126d94",
       "version_major": 2,
       "version_minor": 0
      },
      "text/plain": [
       "  0%|          | 0/30 [00:00<?, ?it/s]"
      ]
     },
     "metadata": {},
     "output_type": "display_data"
    }
   ],
   "source": [
    "lines = []\n",
    "for item in tqdm(file_names[:30]):\n",
    "    with gzip.open(f'data/{item}', \"r\") as f:\n",
    "        lines.extend(f.readlines())"
   ]
  },
  {
   "cell_type": "code",
   "execution_count": 5,
   "id": "afraid-redhead",
   "metadata": {},
   "outputs": [
    {
     "data": {
      "text/plain": [
       "{'id': '33b237709dbd53953a750355115b57ccb6690da1',\n",
       " 'title': 'USING PHOTO IMAGES TO DETERMINE THE GEOMETRIC PARAMETERS OF LARGE OBJECTS',\n",
       " 'paperAbstract': '',\n",
       " 'authors': [{'name': 'E  Popov', 'ids': ['144112922']},\n",
       "  {'name': 'O  Raskatkina', 'ids': ['108722565']}],\n",
       " 'inCitations': [],\n",
       " 'outCitations': [],\n",
       " 'year': 2019,\n",
       " 's2Url': 'https://semanticscholar.org/paper/33b237709dbd53953a750355115b57ccb6690da1',\n",
       " 'sources': [],\n",
       " 'pdfUrls': [],\n",
       " 'venue': '',\n",
       " 'journalName': '',\n",
       " 'journalVolume': '19',\n",
       " 'journalPages': '45-54',\n",
       " 'doi': '10.14529/build190307',\n",
       " 'doiUrl': 'https://doi.org/10.14529/build190307',\n",
       " 'pmid': '',\n",
       " 'fieldsOfStudy': ['Computer Science'],\n",
       " 'magId': '3000193832',\n",
       " 's2PdfUrl': '',\n",
       " 'entities': []}"
      ]
     },
     "execution_count": 5,
     "metadata": {},
     "output_type": "execute_result"
    }
   ],
   "source": [
    "json.loads(lines[0])"
   ]
  },
  {
   "cell_type": "markdown",
   "id": "northern-measure",
   "metadata": {},
   "source": [
    "### Data Processing"
   ]
  },
  {
   "cell_type": "markdown",
   "id": "talented-sentence",
   "metadata": {},
   "source": [
    "В данной части происходит базовая подготовка данных, чтобы внести их в базовый (максимально полный) датафрейм. Это нужно для того, чтобы удобнее сохранить эти данные в csv. Позже не нужно будет каждый раз загружать и читать занова 30 файлов."
   ]
  },
  {
   "cell_type": "code",
   "execution_count": 6,
   "id": "interior-islam",
   "metadata": {},
   "outputs": [],
   "source": [
    "transtab = str.maketrans(string.punctuation, \" \" * len(string.punctuation))\n",
    "\n",
    "def prepare_text(text):\n",
    "    return \" \".join(text.translate(transtab).lower().strip().split())\n",
    "\n",
    "def prepare_authors(data):\n",
    "    result = []\n",
    "    for item in data:\n",
    "        ind = None if not len(item['ids']) else item['ids'][0]\n",
    "        result.append((item['name'], ind))\n",
    "    return result"
   ]
  },
  {
   "cell_type": "code",
   "execution_count": 7,
   "id": "canadian-citizen",
   "metadata": {},
   "outputs": [],
   "source": [
    "def default_gen():\n",
    "    return lambda x: x\n",
    "\n",
    "process_fn = defaultdict(default_gen)\n",
    "\n",
    "process_fn.update({\n",
    "    'title': prepare_text,\n",
    "    'paperAbstract': prepare_text, \n",
    "    'authors': prepare_authors,\n",
    "    'journalPages': prepare_text,\n",
    "})\n",
    "\n",
    "\n",
    "def make_dataframe(lines):\n",
    "    data = defaultdict(list)\n",
    "    for line in tqdm(lines):\n",
    "        tmp = json.loads(line)\n",
    "        for key in tmp:\n",
    "            data[key].append(process_fn[key](tmp[key]))\n",
    "    return data"
   ]
  },
  {
   "cell_type": "code",
   "execution_count": 8,
   "id": "traditional-shape",
   "metadata": {},
   "outputs": [
    {
     "data": {
      "application/vnd.jupyter.widget-view+json": {
       "model_id": "fdf6fbf01226488097267cd726c8313b",
       "version_major": 2,
       "version_minor": 0
      },
      "text/plain": [
       "  0%|          | 0/954657 [00:00<?, ?it/s]"
      ]
     },
     "metadata": {},
     "output_type": "display_data"
    }
   ],
   "source": [
    "df = make_dataframe(lines)"
   ]
  },
  {
   "cell_type": "code",
   "execution_count": 9,
   "id": "incomplete-astronomy",
   "metadata": {},
   "outputs": [],
   "source": [
    "data = pd.DataFrame(data=df)"
   ]
  },
  {
   "cell_type": "code",
   "execution_count": 10,
   "id": "beneficial-spokesman",
   "metadata": {},
   "outputs": [
    {
     "data": {
      "text/html": [
       "<div>\n",
       "<style scoped>\n",
       "    .dataframe tbody tr th:only-of-type {\n",
       "        vertical-align: middle;\n",
       "    }\n",
       "\n",
       "    .dataframe tbody tr th {\n",
       "        vertical-align: top;\n",
       "    }\n",
       "\n",
       "    .dataframe thead th {\n",
       "        text-align: right;\n",
       "    }\n",
       "</style>\n",
       "<table border=\"1\" class=\"dataframe\">\n",
       "  <thead>\n",
       "    <tr style=\"text-align: right;\">\n",
       "      <th></th>\n",
       "      <th>id</th>\n",
       "      <th>title</th>\n",
       "      <th>paperAbstract</th>\n",
       "      <th>authors</th>\n",
       "      <th>inCitations</th>\n",
       "      <th>outCitations</th>\n",
       "      <th>year</th>\n",
       "      <th>s2Url</th>\n",
       "      <th>sources</th>\n",
       "      <th>pdfUrls</th>\n",
       "      <th>...</th>\n",
       "      <th>journalName</th>\n",
       "      <th>journalVolume</th>\n",
       "      <th>journalPages</th>\n",
       "      <th>doi</th>\n",
       "      <th>doiUrl</th>\n",
       "      <th>pmid</th>\n",
       "      <th>fieldsOfStudy</th>\n",
       "      <th>magId</th>\n",
       "      <th>s2PdfUrl</th>\n",
       "      <th>entities</th>\n",
       "    </tr>\n",
       "  </thead>\n",
       "  <tbody>\n",
       "    <tr>\n",
       "      <th>0</th>\n",
       "      <td>33b237709dbd53953a750355115b57ccb6690da1</td>\n",
       "      <td>using photo images to determine the geometric ...</td>\n",
       "      <td></td>\n",
       "      <td>[(E  Popov, 144112922), (O  Raskatkina, 108722...</td>\n",
       "      <td>[]</td>\n",
       "      <td>[]</td>\n",
       "      <td>2019.0</td>\n",
       "      <td>https://semanticscholar.org/paper/33b237709dbd...</td>\n",
       "      <td>[]</td>\n",
       "      <td>[]</td>\n",
       "      <td>...</td>\n",
       "      <td></td>\n",
       "      <td>19</td>\n",
       "      <td>45 54</td>\n",
       "      <td>10.14529/build190307</td>\n",
       "      <td>https://doi.org/10.14529/build190307</td>\n",
       "      <td></td>\n",
       "      <td>[Computer Science]</td>\n",
       "      <td>3000193832</td>\n",
       "      <td></td>\n",
       "      <td>[]</td>\n",
       "    </tr>\n",
       "    <tr>\n",
       "      <th>1</th>\n",
       "      <td>062e9c7579adc73129e1198671d05905f07d4ab5</td>\n",
       "      <td>clinical or industrial pharmacy case studies o...</td>\n",
       "      <td>automated medication dispensing systems for ho...</td>\n",
       "      <td>[(J  Novek, 47586327)]</td>\n",
       "      <td>[799bde07f3e9dc7f39d30ae9e1ac29cda9cd5a5c, 59a...</td>\n",
       "      <td>[a402dac75befed8c389fe00a3b6eed7ee8da87e1, 7d9...</td>\n",
       "      <td>1998.0</td>\n",
       "      <td>https://semanticscholar.org/paper/062e9c7579ad...</td>\n",
       "      <td>[Medline]</td>\n",
       "      <td>[]</td>\n",
       "      <td>...</td>\n",
       "      <td>International Journal of Health Services</td>\n",
       "      <td>28</td>\n",
       "      <td>445 465</td>\n",
       "      <td>10.2190/W2BT-FGXQ-QL0G-YNL9</td>\n",
       "      <td>https://doi.org/10.2190/W2BT-FGXQ-QL0G-YNL9</td>\n",
       "      <td>9711475</td>\n",
       "      <td>[Medicine]</td>\n",
       "      <td>1988383910</td>\n",
       "      <td></td>\n",
       "      <td>[]</td>\n",
       "    </tr>\n",
       "    <tr>\n",
       "      <th>2</th>\n",
       "      <td>771723e7e2d9ed97d09442086553b726f0dd6657</td>\n",
       "      <td>noncoronary and coronary atherothrombotic plaq...</td>\n",
       "      <td>in the future the use of imaging methods to qu...</td>\n",
       "      <td>[(Zahi A Fayad, 1886137)]</td>\n",
       "      <td>[ba2cbbac306fa374c7c07da398e31a52c5680a58, 494...</td>\n",
       "      <td>[3109764f646de80e096609f86b5e4bf19320c81c, aea...</td>\n",
       "      <td>2002.0</td>\n",
       "      <td>https://semanticscholar.org/paper/771723e7e2d9...</td>\n",
       "      <td>[Medline]</td>\n",
       "      <td>[]</td>\n",
       "      <td>...</td>\n",
       "      <td>Neuroimaging clinics of North America</td>\n",
       "      <td>12 3</td>\n",
       "      <td>461 71</td>\n",
       "      <td>10.1016/S1052-5149(02)00023-0</td>\n",
       "      <td>https://doi.org/10.1016/S1052-5149%2802%2900023-0</td>\n",
       "      <td>12486833</td>\n",
       "      <td>[Medicine]</td>\n",
       "      <td>1983175018</td>\n",
       "      <td></td>\n",
       "      <td>[]</td>\n",
       "    </tr>\n",
       "    <tr>\n",
       "      <th>3</th>\n",
       "      <td>263f70167ba7def67a2843ffc30c80a0b9b3f617</td>\n",
       "      <td>국어 명사구 접속의 연구</td>\n",
       "      <td></td>\n",
       "      <td>[(최재희, 115087709)]</td>\n",
       "      <td>[]</td>\n",
       "      <td>[]</td>\n",
       "      <td>1985.0</td>\n",
       "      <td>https://semanticscholar.org/paper/263f70167ba7...</td>\n",
       "      <td>[]</td>\n",
       "      <td>[]</td>\n",
       "      <td>...</td>\n",
       "      <td></td>\n",
       "      <td></td>\n",
       "      <td></td>\n",
       "      <td></td>\n",
       "      <td></td>\n",
       "      <td></td>\n",
       "      <td>[]</td>\n",
       "      <td>2291560164</td>\n",
       "      <td></td>\n",
       "      <td>[]</td>\n",
       "    </tr>\n",
       "    <tr>\n",
       "      <th>4</th>\n",
       "      <td>9ea1148fa657103879ef7ed9a5b716be48ee13a4</td>\n",
       "      <td>who ll take my place when i m gone</td>\n",
       "      <td></td>\n",
       "      <td>[(Billy  Fazioli, 146257415), (Raymond  Klages...</td>\n",
       "      <td>[]</td>\n",
       "      <td>[]</td>\n",
       "      <td>2018.0</td>\n",
       "      <td>https://semanticscholar.org/paper/9ea1148fa657...</td>\n",
       "      <td>[]</td>\n",
       "      <td>[https://digitalcommons.library.umaine.edu/cgi...</td>\n",
       "      <td>...</td>\n",
       "      <td></td>\n",
       "      <td></td>\n",
       "      <td></td>\n",
       "      <td></td>\n",
       "      <td></td>\n",
       "      <td></td>\n",
       "      <td>[Art]</td>\n",
       "      <td>1489188979</td>\n",
       "      <td></td>\n",
       "      <td>[]</td>\n",
       "    </tr>\n",
       "  </tbody>\n",
       "</table>\n",
       "<p>5 rows × 21 columns</p>\n",
       "</div>"
      ],
      "text/plain": [
       "                                         id  \\\n",
       "0  33b237709dbd53953a750355115b57ccb6690da1   \n",
       "1  062e9c7579adc73129e1198671d05905f07d4ab5   \n",
       "2  771723e7e2d9ed97d09442086553b726f0dd6657   \n",
       "3  263f70167ba7def67a2843ffc30c80a0b9b3f617   \n",
       "4  9ea1148fa657103879ef7ed9a5b716be48ee13a4   \n",
       "\n",
       "                                               title  \\\n",
       "0  using photo images to determine the geometric ...   \n",
       "1  clinical or industrial pharmacy case studies o...   \n",
       "2  noncoronary and coronary atherothrombotic plaq...   \n",
       "3                                      국어 명사구 접속의 연구   \n",
       "4                 who ll take my place when i m gone   \n",
       "\n",
       "                                       paperAbstract  \\\n",
       "0                                                      \n",
       "1  automated medication dispensing systems for ho...   \n",
       "2  in the future the use of imaging methods to qu...   \n",
       "3                                                      \n",
       "4                                                      \n",
       "\n",
       "                                             authors  \\\n",
       "0  [(E  Popov, 144112922), (O  Raskatkina, 108722...   \n",
       "1                             [(J  Novek, 47586327)]   \n",
       "2                          [(Zahi A Fayad, 1886137)]   \n",
       "3                                 [(최재희, 115087709)]   \n",
       "4  [(Billy  Fazioli, 146257415), (Raymond  Klages...   \n",
       "\n",
       "                                         inCitations  \\\n",
       "0                                                 []   \n",
       "1  [799bde07f3e9dc7f39d30ae9e1ac29cda9cd5a5c, 59a...   \n",
       "2  [ba2cbbac306fa374c7c07da398e31a52c5680a58, 494...   \n",
       "3                                                 []   \n",
       "4                                                 []   \n",
       "\n",
       "                                        outCitations    year  \\\n",
       "0                                                 []  2019.0   \n",
       "1  [a402dac75befed8c389fe00a3b6eed7ee8da87e1, 7d9...  1998.0   \n",
       "2  [3109764f646de80e096609f86b5e4bf19320c81c, aea...  2002.0   \n",
       "3                                                 []  1985.0   \n",
       "4                                                 []  2018.0   \n",
       "\n",
       "                                               s2Url    sources  \\\n",
       "0  https://semanticscholar.org/paper/33b237709dbd...         []   \n",
       "1  https://semanticscholar.org/paper/062e9c7579ad...  [Medline]   \n",
       "2  https://semanticscholar.org/paper/771723e7e2d9...  [Medline]   \n",
       "3  https://semanticscholar.org/paper/263f70167ba7...         []   \n",
       "4  https://semanticscholar.org/paper/9ea1148fa657...         []   \n",
       "\n",
       "                                             pdfUrls  ...  \\\n",
       "0                                                 []  ...   \n",
       "1                                                 []  ...   \n",
       "2                                                 []  ...   \n",
       "3                                                 []  ...   \n",
       "4  [https://digitalcommons.library.umaine.edu/cgi...  ...   \n",
       "\n",
       "                                journalName journalVolume journalPages  \\\n",
       "0                                                      19        45 54   \n",
       "1  International Journal of Health Services            28      445 465   \n",
       "2     Neuroimaging clinics of North America          12 3       461 71   \n",
       "3                                                                        \n",
       "4                                                                        \n",
       "\n",
       "                             doi  \\\n",
       "0           10.14529/build190307   \n",
       "1    10.2190/W2BT-FGXQ-QL0G-YNL9   \n",
       "2  10.1016/S1052-5149(02)00023-0   \n",
       "3                                  \n",
       "4                                  \n",
       "\n",
       "                                              doiUrl      pmid  \\\n",
       "0               https://doi.org/10.14529/build190307             \n",
       "1        https://doi.org/10.2190/W2BT-FGXQ-QL0G-YNL9   9711475   \n",
       "2  https://doi.org/10.1016/S1052-5149%2802%2900023-0  12486833   \n",
       "3                                                                \n",
       "4                                                                \n",
       "\n",
       "        fieldsOfStudy       magId s2PdfUrl entities  \n",
       "0  [Computer Science]  3000193832                []  \n",
       "1          [Medicine]  1988383910                []  \n",
       "2          [Medicine]  1983175018                []  \n",
       "3                  []  2291560164                []  \n",
       "4               [Art]  1489188979                []  \n",
       "\n",
       "[5 rows x 21 columns]"
      ]
     },
     "execution_count": 10,
     "metadata": {},
     "output_type": "execute_result"
    }
   ],
   "source": [
    "data.head()"
   ]
  },
  {
   "cell_type": "code",
   "execution_count": 11,
   "id": "tender-blank",
   "metadata": {},
   "outputs": [],
   "source": [
    "data.pmid = data.pmid.astype(str)\n",
    "data.magId = data.magId.astype(str)\n",
    "data.year = data.year.replace({np.nan: -1})"
   ]
  },
  {
   "cell_type": "code",
   "execution_count": 12,
   "id": "toxic-colon",
   "metadata": {},
   "outputs": [
    {
     "name": "stdout",
     "output_type": "stream",
     "text": [
      "CPU times: user 35.9 s, sys: 2.99 s, total: 38.9 s\n",
      "Wall time: 40 s\n"
     ]
    }
   ],
   "source": [
    "%%time\n",
    "data.to_csv(\"df_full.csv\", sep='\\t', index=False)"
   ]
  },
  {
   "cell_type": "markdown",
   "id": "creative-passage",
   "metadata": {},
   "source": [
    "### Prepare file with citations info"
   ]
  },
  {
   "cell_type": "code",
   "execution_count": 13,
   "id": "sweet-design",
   "metadata": {},
   "outputs": [],
   "source": [
    "article_years = {ind: year for ind, year in zip(data.id, data.year)}\n",
    "\n",
    "def get_first_5years_citations(year, in_cit_ls):\n",
    "    if year < 0:\n",
    "        return None, None\n",
    "    res = 0\n",
    "    out_of_files = 0\n",
    "    for ind in in_cit_ls:\n",
    "        if ind in article_years:\n",
    "            res += article_years[ind] > 0 and article_years[ind] - year <= 5\n",
    "        else:\n",
    "            out_of_files += 1\n",
    "    return res, out_of_files   "
   ]
  },
  {
   "cell_type": "code",
   "execution_count": 14,
   "id": "demonstrated-airline",
   "metadata": {},
   "outputs": [],
   "source": [
    "def make_citations_dataframe(data):\n",
    "    result = data[['id', 'year', 'inCitations', 'outCitations']]\n",
    "    result = result[result.year <= 2016]\n",
    "    target, out_of_files, count_in, count_out = [], [], [], []\n",
    "    for year, inls, outls in tqdm(zip(result.year, result.inCitations, result.outCitations)):\n",
    "        res, out_of_file = get_first_5years_citations(year, inls)\n",
    "        target.append(res)\n",
    "        out_of_files.append(out_of_file)\n",
    "        count_in.append(len(inls))\n",
    "        count_out.append(len(outls))\n",
    "    result['target'] = target\n",
    "    result['out_of_files'] = out_of_files\n",
    "    result['count_in'] = count_in\n",
    "    result['count_out'] = count_out\n",
    "    return result"
   ]
  },
  {
   "cell_type": "code",
   "execution_count": 15,
   "id": "synthetic-function",
   "metadata": {},
   "outputs": [
    {
     "data": {
      "application/vnd.jupyter.widget-view+json": {
       "model_id": "9ebc9042b97f41f1a3462c2863c62eae",
       "version_major": 2,
       "version_minor": 0
      },
      "text/plain": [
       "0it [00:00, ?it/s]"
      ]
     },
     "metadata": {},
     "output_type": "display_data"
    }
   ],
   "source": [
    "cit_df = make_citations_dataframe(data)"
   ]
  },
  {
   "cell_type": "code",
   "execution_count": 16,
   "id": "eastern-china",
   "metadata": {},
   "outputs": [
    {
     "name": "stdout",
     "output_type": "stream",
     "text": [
      "CPU times: user 16.2 s, sys: 1.8 s, total: 18 s\n",
      "Wall time: 19.1 s\n"
     ]
    }
   ],
   "source": [
    "%%time\n",
    "cit_df.to_csv(\"df_citations.csv\", sep='\\t', index=False)"
   ]
  },
  {
   "cell_type": "markdown",
   "id": "fuzzy-ceremony",
   "metadata": {},
   "source": [
    "Несколько вспомогательных функций и образец того, как правильно считать полный датафрейм. Проблема там возникает в том, что после записи списки перестают быть списками. "
   ]
  },
  {
   "cell_type": "code",
   "execution_count": 17,
   "id": "female-princeton",
   "metadata": {},
   "outputs": [
    {
     "name": "stdout",
     "output_type": "stream",
     "text": [
      "CPU times: user 44.4 s, sys: 19.9 s, total: 1min 4s\n",
      "Wall time: 1min 13s\n"
     ]
    }
   ],
   "source": [
    "%%time\n",
    "\n",
    "def process_authors(text):\n",
    "    result = []\n",
    "    for item in text.strip('[()]').replace(\"'\",\"\").split('), ('):\n",
    "        try:\n",
    "            name, ind = item.rsplit(', ')\n",
    "        except:\n",
    "            return []\n",
    "        result.append((name, int(ind) if ind != 'None' else None))\n",
    "    return result\n",
    "\n",
    "converter = lambda x: json.loads(x.replace(\"'\", '\"'))\n",
    "converter_pdf_urls = lambda x: x.strip(\"[]\").replace(\"'\",\"\").split(\", \")\n",
    "converter_authors = lambda x: process_authors(x)\n",
    "\n",
    "data = pd.read_csv('df_full.csv', sep='\\t', converters={\n",
    "    'sources': converter,\n",
    "    'inCitations': converter,\n",
    "    'outCitations': converter,\n",
    "    'pdfUrls': converter_pdf_urls,\n",
    "    'fieldsOfStudy': converter,\n",
    "    'entities': converter,\n",
    "    'authors': converter_authors,\n",
    "})"
   ]
  },
  {
   "cell_type": "markdown",
   "id": "small-drill",
   "metadata": {},
   "source": [
    "### Prepare for training\n",
    "\n",
    "В планах для тренировки было использовать собранные и полученные после парсинга данные, но проблема возникла в тот момент, когда выяснилось, что большинство входящих цитат для статей идут из других файлов. Поэтому данными статей воспользоваться не получится. Буду строить предсказания на таблице, предложенной в задании. Вообще, для при построении фичей по исходным статьям я планировал выделить следующие признаки: \n",
    "\n",
    "* язык статьи (c помощью пакета `langdetect`)\n",
    "* количество авторов\n",
    "* цитируемости авторов \n",
    "* среднюю цитируемость для каждого издания\n",
    "* среднюю цитируемость каждого топика статьи\n",
    "* сгруппировать авторов по странам и для каждой статьи записать средннюю цитируемости авторов по странам\n",
    "* различные текстовые характеристики: кол-во слов, длину в символах, векторные представления названий (тут могут возникнуть проблемы с разными языками)\n",
    "* количество ссылок, связанных со статьей и т.д.\n",
    "\n",
    "Еще также разумным было бы отсеять статьи, которых не указан год или издание. "
   ]
  },
  {
   "cell_type": "markdown",
   "id": "accurate-clinton",
   "metadata": {},
   "source": [
    "### Training"
   ]
  },
  {
   "cell_type": "code",
   "execution_count": 18,
   "id": "aggressive-advisory",
   "metadata": {},
   "outputs": [],
   "source": [
    "from sklearn.model_selection import train_test_split, cross_val_score\n",
    "from sklearn.metrics import r2_score\n",
    "from scipy.stats import zscore\n",
    "\n",
    "from sklearn.impute import SimpleImputer\n",
    "from sklearn.model_selection import GridSearchCV\n",
    "from sklearn.pipeline import Pipeline\n",
    "from sklearn.preprocessing import StandardScaler\n",
    "\n",
    "from catboost import CatBoostRegressor\n",
    "from sklearn.ensemble import RandomForestRegressor, GradientBoostingRegressor\n",
    "from sklearn.linear_model import Ridge\n",
    "from xgboost import XGBRegressor\n",
    "\n",
    "import seaborn as sns\n",
    "import matplotlib.pyplot as plt"
   ]
  },
  {
   "cell_type": "code",
   "execution_count": 19,
   "id": "norwegian-messaging",
   "metadata": {},
   "outputs": [],
   "source": [
    "df = pd.read_csv('predict.csv')"
   ]
  },
  {
   "cell_type": "code",
   "execution_count": 20,
   "id": "minus-father",
   "metadata": {},
   "outputs": [
    {
     "data": {
      "text/html": [
       "<div>\n",
       "<style scoped>\n",
       "    .dataframe tbody tr th:only-of-type {\n",
       "        vertical-align: middle;\n",
       "    }\n",
       "\n",
       "    .dataframe tbody tr th {\n",
       "        vertical-align: top;\n",
       "    }\n",
       "\n",
       "    .dataframe thead th {\n",
       "        text-align: right;\n",
       "    }\n",
       "</style>\n",
       "<table border=\"1\" class=\"dataframe\">\n",
       "  <thead>\n",
       "    <tr style=\"text-align: right;\">\n",
       "      <th></th>\n",
       "      <th>recency</th>\n",
       "      <th>topic_rank</th>\n",
       "      <th>diversity</th>\n",
       "      <th>authors_mean_rank</th>\n",
       "      <th>authors_mean_hindex</th>\n",
       "      <th>authors_mean_gindex</th>\n",
       "      <th>authors_mean_sociality</th>\n",
       "      <th>authors_mean_pagerank</th>\n",
       "      <th>authors_mean_productivity</th>\n",
       "      <th>journal_pagerank</th>\n",
       "      <th>journal_rank</th>\n",
       "      <th>title_len</th>\n",
       "      <th>abstract_len</th>\n",
       "      <th>n_authors</th>\n",
       "      <th>c5</th>\n",
       "      <th>log_authors_mean_sociality</th>\n",
       "    </tr>\n",
       "  </thead>\n",
       "  <tbody>\n",
       "    <tr>\n",
       "      <th>0</th>\n",
       "      <td>16</td>\n",
       "      <td>1.0</td>\n",
       "      <td>-0.425436</td>\n",
       "      <td>500.0</td>\n",
       "      <td>1.0</td>\n",
       "      <td>1.0</td>\n",
       "      <td>6.0</td>\n",
       "      <td>NaN</td>\n",
       "      <td>NaN</td>\n",
       "      <td>NaN</td>\n",
       "      <td>101.0</td>\n",
       "      <td>66</td>\n",
       "      <td>1653</td>\n",
       "      <td>7</td>\n",
       "      <td>1.0</td>\n",
       "      <td>1.945910</td>\n",
       "    </tr>\n",
       "    <tr>\n",
       "      <th>1</th>\n",
       "      <td>8</td>\n",
       "      <td>7.0</td>\n",
       "      <td>-0.571967</td>\n",
       "      <td>134.0</td>\n",
       "      <td>1.0</td>\n",
       "      <td>1.0</td>\n",
       "      <td>6.0</td>\n",
       "      <td>NaN</td>\n",
       "      <td>NaN</td>\n",
       "      <td>NaN</td>\n",
       "      <td>24.0</td>\n",
       "      <td>59</td>\n",
       "      <td>1527</td>\n",
       "      <td>7</td>\n",
       "      <td>32.0</td>\n",
       "      <td>1.945910</td>\n",
       "    </tr>\n",
       "    <tr>\n",
       "      <th>2</th>\n",
       "      <td>15</td>\n",
       "      <td>19.0</td>\n",
       "      <td>-0.859644</td>\n",
       "      <td>235.0</td>\n",
       "      <td>1.0</td>\n",
       "      <td>1.0</td>\n",
       "      <td>5.0</td>\n",
       "      <td>NaN</td>\n",
       "      <td>NaN</td>\n",
       "      <td>NaN</td>\n",
       "      <td>49.0</td>\n",
       "      <td>169</td>\n",
       "      <td>1554</td>\n",
       "      <td>6</td>\n",
       "      <td>5.0</td>\n",
       "      <td>1.791759</td>\n",
       "    </tr>\n",
       "    <tr>\n",
       "      <th>3</th>\n",
       "      <td>6</td>\n",
       "      <td>4.0</td>\n",
       "      <td>-1.054999</td>\n",
       "      <td>1124.0</td>\n",
       "      <td>1.0</td>\n",
       "      <td>1.0</td>\n",
       "      <td>10.0</td>\n",
       "      <td>NaN</td>\n",
       "      <td>NaN</td>\n",
       "      <td>NaN</td>\n",
       "      <td>185.0</td>\n",
       "      <td>130</td>\n",
       "      <td>2121</td>\n",
       "      <td>11</td>\n",
       "      <td>7.0</td>\n",
       "      <td>2.397895</td>\n",
       "    </tr>\n",
       "    <tr>\n",
       "      <th>4</th>\n",
       "      <td>14</td>\n",
       "      <td>2.0</td>\n",
       "      <td>-0.476697</td>\n",
       "      <td>346.0</td>\n",
       "      <td>1.0</td>\n",
       "      <td>1.0</td>\n",
       "      <td>2.0</td>\n",
       "      <td>NaN</td>\n",
       "      <td>NaN</td>\n",
       "      <td>NaN</td>\n",
       "      <td>72.0</td>\n",
       "      <td>100</td>\n",
       "      <td>432</td>\n",
       "      <td>3</td>\n",
       "      <td>7.0</td>\n",
       "      <td>1.098612</td>\n",
       "    </tr>\n",
       "    <tr>\n",
       "      <th>...</th>\n",
       "      <td>...</td>\n",
       "      <td>...</td>\n",
       "      <td>...</td>\n",
       "      <td>...</td>\n",
       "      <td>...</td>\n",
       "      <td>...</td>\n",
       "      <td>...</td>\n",
       "      <td>...</td>\n",
       "      <td>...</td>\n",
       "      <td>...</td>\n",
       "      <td>...</td>\n",
       "      <td>...</td>\n",
       "      <td>...</td>\n",
       "      <td>...</td>\n",
       "      <td>...</td>\n",
       "      <td>...</td>\n",
       "    </tr>\n",
       "    <tr>\n",
       "      <th>474</th>\n",
       "      <td>25</td>\n",
       "      <td>6.0</td>\n",
       "      <td>-0.330948</td>\n",
       "      <td>528.0</td>\n",
       "      <td>0.0</td>\n",
       "      <td>0.0</td>\n",
       "      <td>6.0</td>\n",
       "      <td>NaN</td>\n",
       "      <td>NaN</td>\n",
       "      <td>NaN</td>\n",
       "      <td>140.0</td>\n",
       "      <td>62</td>\n",
       "      <td>645</td>\n",
       "      <td>7</td>\n",
       "      <td>0.0</td>\n",
       "      <td>1.945910</td>\n",
       "    </tr>\n",
       "    <tr>\n",
       "      <th>475</th>\n",
       "      <td>6</td>\n",
       "      <td>12.0</td>\n",
       "      <td>-1.493480</td>\n",
       "      <td>2145.0</td>\n",
       "      <td>0.0</td>\n",
       "      <td>0.0</td>\n",
       "      <td>1.0</td>\n",
       "      <td>NaN</td>\n",
       "      <td>NaN</td>\n",
       "      <td>NaN</td>\n",
       "      <td>416.0</td>\n",
       "      <td>45</td>\n",
       "      <td>714</td>\n",
       "      <td>2</td>\n",
       "      <td>0.0</td>\n",
       "      <td>0.693147</td>\n",
       "    </tr>\n",
       "    <tr>\n",
       "      <th>476</th>\n",
       "      <td>24</td>\n",
       "      <td>17.0</td>\n",
       "      <td>-1.466320</td>\n",
       "      <td>551.0</td>\n",
       "      <td>0.0</td>\n",
       "      <td>0.0</td>\n",
       "      <td>4.0</td>\n",
       "      <td>NaN</td>\n",
       "      <td>NaN</td>\n",
       "      <td>NaN</td>\n",
       "      <td>146.0</td>\n",
       "      <td>84</td>\n",
       "      <td>0</td>\n",
       "      <td>5</td>\n",
       "      <td>0.0</td>\n",
       "      <td>1.609438</td>\n",
       "    </tr>\n",
       "    <tr>\n",
       "      <th>477</th>\n",
       "      <td>24</td>\n",
       "      <td>6.0</td>\n",
       "      <td>-1.556737</td>\n",
       "      <td>551.0</td>\n",
       "      <td>0.0</td>\n",
       "      <td>0.0</td>\n",
       "      <td>0.0</td>\n",
       "      <td>NaN</td>\n",
       "      <td>NaN</td>\n",
       "      <td>NaN</td>\n",
       "      <td>146.0</td>\n",
       "      <td>56</td>\n",
       "      <td>0</td>\n",
       "      <td>1</td>\n",
       "      <td>0.0</td>\n",
       "      <td>0.000000</td>\n",
       "    </tr>\n",
       "    <tr>\n",
       "      <th>478</th>\n",
       "      <td>23</td>\n",
       "      <td>9.0</td>\n",
       "      <td>-0.283168</td>\n",
       "      <td>602.0</td>\n",
       "      <td>0.0</td>\n",
       "      <td>0.0</td>\n",
       "      <td>0.0</td>\n",
       "      <td>NaN</td>\n",
       "      <td>NaN</td>\n",
       "      <td>NaN</td>\n",
       "      <td>155.0</td>\n",
       "      <td>90</td>\n",
       "      <td>476</td>\n",
       "      <td>1</td>\n",
       "      <td>0.0</td>\n",
       "      <td>0.000000</td>\n",
       "    </tr>\n",
       "  </tbody>\n",
       "</table>\n",
       "<p>479 rows × 16 columns</p>\n",
       "</div>"
      ],
      "text/plain": [
       "     recency  topic_rank  diversity  authors_mean_rank  authors_mean_hindex  \\\n",
       "0         16         1.0  -0.425436              500.0                  1.0   \n",
       "1          8         7.0  -0.571967              134.0                  1.0   \n",
       "2         15        19.0  -0.859644              235.0                  1.0   \n",
       "3          6         4.0  -1.054999             1124.0                  1.0   \n",
       "4         14         2.0  -0.476697              346.0                  1.0   \n",
       "..       ...         ...        ...                ...                  ...   \n",
       "474       25         6.0  -0.330948              528.0                  0.0   \n",
       "475        6        12.0  -1.493480             2145.0                  0.0   \n",
       "476       24        17.0  -1.466320              551.0                  0.0   \n",
       "477       24         6.0  -1.556737              551.0                  0.0   \n",
       "478       23         9.0  -0.283168              602.0                  0.0   \n",
       "\n",
       "     authors_mean_gindex  authors_mean_sociality  authors_mean_pagerank  \\\n",
       "0                    1.0                     6.0                    NaN   \n",
       "1                    1.0                     6.0                    NaN   \n",
       "2                    1.0                     5.0                    NaN   \n",
       "3                    1.0                    10.0                    NaN   \n",
       "4                    1.0                     2.0                    NaN   \n",
       "..                   ...                     ...                    ...   \n",
       "474                  0.0                     6.0                    NaN   \n",
       "475                  0.0                     1.0                    NaN   \n",
       "476                  0.0                     4.0                    NaN   \n",
       "477                  0.0                     0.0                    NaN   \n",
       "478                  0.0                     0.0                    NaN   \n",
       "\n",
       "     authors_mean_productivity  journal_pagerank  journal_rank  title_len  \\\n",
       "0                          NaN               NaN         101.0         66   \n",
       "1                          NaN               NaN          24.0         59   \n",
       "2                          NaN               NaN          49.0        169   \n",
       "3                          NaN               NaN         185.0        130   \n",
       "4                          NaN               NaN          72.0        100   \n",
       "..                         ...               ...           ...        ...   \n",
       "474                        NaN               NaN         140.0         62   \n",
       "475                        NaN               NaN         416.0         45   \n",
       "476                        NaN               NaN         146.0         84   \n",
       "477                        NaN               NaN         146.0         56   \n",
       "478                        NaN               NaN         155.0         90   \n",
       "\n",
       "     abstract_len  n_authors    c5  log_authors_mean_sociality  \n",
       "0            1653          7   1.0                    1.945910  \n",
       "1            1527          7  32.0                    1.945910  \n",
       "2            1554          6   5.0                    1.791759  \n",
       "3            2121         11   7.0                    2.397895  \n",
       "4             432          3   7.0                    1.098612  \n",
       "..            ...        ...   ...                         ...  \n",
       "474           645          7   0.0                    1.945910  \n",
       "475           714          2   0.0                    0.693147  \n",
       "476             0          5   0.0                    1.609438  \n",
       "477             0          1   0.0                    0.000000  \n",
       "478           476          1   0.0                    0.000000  \n",
       "\n",
       "[479 rows x 16 columns]"
      ]
     },
     "execution_count": 20,
     "metadata": {},
     "output_type": "execute_result"
    }
   ],
   "source": [
    "df"
   ]
  },
  {
   "cell_type": "code",
   "execution_count": 21,
   "id": "greater-oliver",
   "metadata": {},
   "outputs": [],
   "source": [
    "X = df.drop(columns=['c5', 'authors_mean_pagerank', 'authors_mean_productivity', 'journal_pagerank'])\n",
    "y = df.c5"
   ]
  },
  {
   "cell_type": "code",
   "execution_count": 22,
   "id": "turned-jenny",
   "metadata": {},
   "outputs": [
    {
     "data": {
      "text/plain": [
       "<AxesSubplot:>"
      ]
     },
     "execution_count": 22,
     "metadata": {},
     "output_type": "execute_result"
    },
    {
     "data": {
      "image/png": "[encoded data removed]",
      "text/plain": [
       "<Figure size 432x288 with 2 Axes>"
      ]
     },
     "metadata": {
      "needs_background": "light"
     },
     "output_type": "display_data"
    }
   ],
   "source": [
    "sns.heatmap(df.corr())"
   ]
  },
  {
   "cell_type": "markdown",
   "id": "mediterranean-revision",
   "metadata": {},
   "source": [
    "Уберем выбросы из обучающей выборки, чтобы модель была более устойчивой. "
   ]
  },
  {
   "cell_type": "code",
   "execution_count": 23,
   "id": "disabled-hartford",
   "metadata": {},
   "outputs": [],
   "source": [
    "X_train, X_test, y_train, y_test = train_test_split(X, y, random_state=73, test_size=0.2)\n",
    "ind = abs(zscore(y_train)) < 3\n",
    "\n",
    "X_train = X_train[ind]\n",
    "y_train = y_train[ind]"
   ]
  },
  {
   "cell_type": "markdown",
   "id": "charitable-ottawa",
   "metadata": {},
   "source": [
    "Базовые модели, которые будем использовать:\n",
    "\n",
    "* Ridge\n",
    "* CatBoostRegressor\n",
    "* RF\n",
    "* XGBRegressor\n",
    "* GradientBoostingRegressor"
   ]
  },
  {
   "cell_type": "code",
   "execution_count": 24,
   "id": "accessible-ministry",
   "metadata": {},
   "outputs": [],
   "source": [
    "ridge_pipe = Pipeline([\n",
    "    ('imputer', SimpleImputer()),\n",
    "    ('scaler', StandardScaler()),\n",
    "    ('ridge', Ridge())\n",
    "])\n",
    "\n",
    "rf_pipe =  Pipeline([\n",
    "    ('imputer', SimpleImputer()),\n",
    "    ('rf', RandomForestRegressor(random_state=0))\n",
    "])\n",
    "\n",
    "grad_pipe =  Pipeline([\n",
    "    ('imputer', SimpleImputer()),\n",
    "    ('grad', GradientBoostingRegressor(random_state=0))\n",
    "])\n",
    "\n",
    "xgb_model = XGBRegressor()\n",
    "\n",
    "catb_model = CatBoostRegressor(verbose=0)"
   ]
  },
  {
   "cell_type": "code",
   "execution_count": 25,
   "id": "spatial-lightweight",
   "metadata": {},
   "outputs": [
    {
     "name": "stdout",
     "output_type": "stream",
     "text": [
      "Index(['recency', 'topic_rank', 'diversity', 'authors_mean_rank',\n",
      "       'authors_mean_hindex', 'authors_mean_gindex', 'authors_mean_sociality',\n",
      "       'journal_rank', 'title_len', 'abstract_len', 'n_authors',\n",
      "       'log_authors_mean_sociality'],\n",
      "      dtype='object')\n"
     ]
    }
   ],
   "source": [
    "columns = X_train.columns\n",
    "print(columns)"
   ]
  },
  {
   "cell_type": "code",
   "execution_count": 26,
   "id": "digital-dietary",
   "metadata": {},
   "outputs": [],
   "source": [
    "def check_test(model, X_train, y_train, X_test, y_test):\n",
    "    model.fit(X_train, y_train)\n",
    "    return r2_score(y_test, model.predict(X_test))\n",
    "\n",
    "def cross_val_model(model, X_train, y_train, scoring, cv):\n",
    "    ls = cross_val_score(model, X_train, y_train, scoring=scoring, cv=cv)\n",
    "    print(f\"{scoring} = {np.mean(ls)} +- {np.std(ls)}\")"
   ]
  },
  {
   "cell_type": "code",
   "execution_count": 27,
   "id": "focal-foundation",
   "metadata": {},
   "outputs": [
    {
     "name": "stdout",
     "output_type": "stream",
     "text": [
      "r2 = 0.6826869564088899 +- 0.06160971573918031\n",
      "CPU times: user 31.8 s, sys: 5.13 s, total: 37 s\n",
      "Wall time: 12.7 s\n"
     ]
    }
   ],
   "source": [
    "%%time\n",
    "cross_val_model(catb_model, X_train[columns], y_train, scoring='r2', cv=5)"
   ]
  },
  {
   "cell_type": "code",
   "execution_count": 28,
   "id": "single-ladder",
   "metadata": {},
   "outputs": [
    {
     "data": {
      "text/plain": [
       "0.5986357179888994"
      ]
     },
     "execution_count": 28,
     "metadata": {},
     "output_type": "execute_result"
    }
   ],
   "source": [
    "check_test(catb_model, X_train[columns], y_train, X_test[columns], y_test)"
   ]
  },
  {
   "cell_type": "code",
   "execution_count": 29,
   "id": "lyric-house",
   "metadata": {},
   "outputs": [
    {
     "name": "stdout",
     "output_type": "stream",
     "text": [
      "r2 = 0.6126552522081382 +- 0.09488050455873043\n",
      "CPU times: user 6.9 s, sys: 557 ms, total: 7.46 s\n",
      "Wall time: 1.65 s\n"
     ]
    }
   ],
   "source": [
    "%%time\n",
    "cross_val_model(xgb_model, X_train[columns], y_train, scoring='r2', cv=5)"
   ]
  },
  {
   "cell_type": "code",
   "execution_count": 30,
   "id": "boring-foster",
   "metadata": {},
   "outputs": [
    {
     "data": {
      "text/plain": [
       "0.5783276651759164"
      ]
     },
     "execution_count": 30,
     "metadata": {},
     "output_type": "execute_result"
    }
   ],
   "source": [
    "check_test(xgb_model, X_train[columns], y_train, X_test[columns], y_test)"
   ]
  },
  {
   "cell_type": "code",
   "execution_count": 31,
   "id": "african-olive",
   "metadata": {},
   "outputs": [
    {
     "name": "stdout",
     "output_type": "stream",
     "text": [
      "r2 = 0.6739585881948266 +- 0.08748509832545126\n",
      "CPU times: user 1.95 s, sys: 82.5 ms, total: 2.03 s\n",
      "Wall time: 872 ms\n"
     ]
    }
   ],
   "source": [
    "%%time\n",
    "cross_val_model(rf_pipe, X_train[columns], y_train, scoring='r2', cv=5)"
   ]
  },
  {
   "cell_type": "code",
   "execution_count": 32,
   "id": "attempted-easter",
   "metadata": {},
   "outputs": [
    {
     "data": {
      "text/plain": [
       "0.6389453200165476"
      ]
     },
     "execution_count": 32,
     "metadata": {},
     "output_type": "execute_result"
    }
   ],
   "source": [
    "check_test(rf_pipe, X_train[columns], y_train, X_test[columns], y_test)"
   ]
  },
  {
   "cell_type": "code",
   "execution_count": 33,
   "id": "official-hanging",
   "metadata": {},
   "outputs": [
    {
     "name": "stdout",
     "output_type": "stream",
     "text": [
      "r2 = 0.7141653885495068 +- 0.0850534786014533\n",
      "CPU times: user 342 ms, sys: 5.69 ms, total: 347 ms\n",
      "Wall time: 350 ms\n"
     ]
    }
   ],
   "source": [
    "%%time\n",
    "cross_val_model(grad_pipe, X_train[columns], y_train, scoring='r2', cv=5)"
   ]
  },
  {
   "cell_type": "code",
   "execution_count": 34,
   "id": "original-tracy",
   "metadata": {},
   "outputs": [
    {
     "data": {
      "text/plain": [
       "0.6452951504017186"
      ]
     },
     "execution_count": 34,
     "metadata": {},
     "output_type": "execute_result"
    }
   ],
   "source": [
    "check_test(grad_pipe, X_train[columns], y_train, X_test[columns], y_test)"
   ]
  },
  {
   "cell_type": "code",
   "execution_count": 35,
   "id": "swiss-teddy",
   "metadata": {},
   "outputs": [
    {
     "name": "stdout",
     "output_type": "stream",
     "text": [
      "r2 = 0.610241154764583 +- 0.07652869738039728\n",
      "CPU times: user 44.2 ms, sys: 3.91 ms, total: 48.1 ms\n",
      "Wall time: 52.3 ms\n"
     ]
    }
   ],
   "source": [
    "%%time\n",
    "cross_val_model(ridge_pipe, X_train[columns], y_train, scoring='r2', cv=5)"
   ]
  },
  {
   "cell_type": "code",
   "execution_count": 36,
   "id": "fabulous-croatia",
   "metadata": {},
   "outputs": [
    {
     "data": {
      "text/plain": [
       "0.43977961982334524"
      ]
     },
     "execution_count": 36,
     "metadata": {},
     "output_type": "execute_result"
    }
   ],
   "source": [
    "check_test(ridge_pipe, X_train[columns], y_train, X_test[columns], y_test)"
   ]
  },
  {
   "cell_type": "markdown",
   "id": "external-pilot",
   "metadata": {},
   "source": [
    "После сравнения бейзлайнов имеет смысл подбирать параметры для моделей rf, grad."
   ]
  },
  {
   "cell_type": "markdown",
   "id": "functional-security",
   "metadata": {},
   "source": [
    "### GradientBoostingRegressor"
   ]
  },
  {
   "cell_type": "code",
   "execution_count": 37,
   "id": "tight-natural",
   "metadata": {},
   "outputs": [],
   "source": [
    "gbm_params = {}"
   ]
  },
  {
   "cell_type": "code",
   "execution_count": 38,
   "id": "certified-manchester",
   "metadata": {},
   "outputs": [
    {
     "data": {
      "text/plain": [
       "GridSearchCV(cv=5,\n",
       "             estimator=Pipeline(steps=[('imputer', SimpleImputer()),\n",
       "                                       ('grad',\n",
       "                                        GradientBoostingRegressor(random_state=0))]),\n",
       "             param_grid={'grad__n_estimators': range(20, 150, 10)},\n",
       "             scoring='r2')"
      ]
     },
     "execution_count": 38,
     "metadata": {},
     "output_type": "execute_result"
    }
   ],
   "source": [
    "param_test1 = {'grad__n_estimators':range(20, 150, 10)}\n",
    "\n",
    "gsearch1 = GridSearchCV(estimator = grad_pipe.set_params(**gbm_params), \n",
    "param_grid = param_test1, scoring='r2', cv=5)\n",
    "gsearch1.fit(X_train[columns], y_train)"
   ]
  },
  {
   "cell_type": "code",
   "execution_count": 39,
   "id": "fancy-communication",
   "metadata": {},
   "outputs": [
    {
     "data": {
      "text/plain": [
       "({'grad__n_estimators': 60}, 0.7184824570806045)"
      ]
     },
     "execution_count": 39,
     "metadata": {},
     "output_type": "execute_result"
    }
   ],
   "source": [
    "gsearch1.best_params_, gsearch1.best_score_"
   ]
  },
  {
   "cell_type": "code",
   "execution_count": 40,
   "id": "secret-niger",
   "metadata": {},
   "outputs": [],
   "source": [
    "gbm_params.update(gsearch1.best_params_)"
   ]
  },
  {
   "cell_type": "code",
   "execution_count": 41,
   "id": "lesser-austin",
   "metadata": {},
   "outputs": [
    {
     "data": {
      "text/plain": [
       "GridSearchCV(cv=5,\n",
       "             estimator=Pipeline(steps=[('imputer', SimpleImputer()),\n",
       "                                       ('grad',\n",
       "                                        GradientBoostingRegressor(n_estimators=60,\n",
       "                                                                  random_state=0))]),\n",
       "             param_grid={'grad__max_depth': range(2, 16, 2),\n",
       "                         'grad__min_samples_split': range(10, 51, 10)},\n",
       "             scoring='r2')"
      ]
     },
     "execution_count": 41,
     "metadata": {},
     "output_type": "execute_result"
    }
   ],
   "source": [
    "param_test2 = {\n",
    "    'grad__max_depth': range(2, 16, 2),\n",
    "    'grad__min_samples_split': range(10, 51, 10),\n",
    "}\n",
    "\n",
    "\n",
    "gsearch2 = GridSearchCV(estimator = grad_pipe.set_params(**gbm_params), param_grid=param_test2, scoring='r2', cv=5)\n",
    "gsearch2.fit(X_train[columns], y_train)"
   ]
  },
  {
   "cell_type": "code",
   "execution_count": 42,
   "id": "aerial-encoding",
   "metadata": {},
   "outputs": [
    {
     "data": {
      "text/plain": [
       "({'grad__max_depth': 4, 'grad__min_samples_split': 40}, 0.7328010519365253)"
      ]
     },
     "execution_count": 42,
     "metadata": {},
     "output_type": "execute_result"
    }
   ],
   "source": [
    "gsearch2.best_params_, gsearch2.best_score_"
   ]
  },
  {
   "cell_type": "code",
   "execution_count": 43,
   "id": "moving-designer",
   "metadata": {},
   "outputs": [],
   "source": [
    "gbm_params.update(gsearch2.best_params_)"
   ]
  },
  {
   "cell_type": "code",
   "execution_count": 44,
   "id": "everyday-institution",
   "metadata": {},
   "outputs": [
    {
     "data": {
      "text/plain": [
       "GridSearchCV(cv=5,\n",
       "             estimator=Pipeline(steps=[('imputer', SimpleImputer()),\n",
       "                                       ('grad',\n",
       "                                        GradientBoostingRegressor(max_depth=4,\n",
       "                                                                  min_samples_split=40,\n",
       "                                                                  n_estimators=60,\n",
       "                                                                  random_state=0))]),\n",
       "             param_grid={'grad__min_samples_leaf': range(1, 50, 5),\n",
       "                         'grad__min_samples_split': range(10, 51, 10)},\n",
       "             scoring='r2')"
      ]
     },
     "execution_count": 44,
     "metadata": {},
     "output_type": "execute_result"
    }
   ],
   "source": [
    "param_test3 = {\n",
    "    'grad__min_samples_leaf': range(1, 50, 5),\n",
    "    'grad__min_samples_split': range(10, 51, 10),\n",
    "}\n",
    "\n",
    "gsearch3 = GridSearchCV(estimator = grad_pipe.set_params(**gbm_params), param_grid=param_test3, scoring='r2', cv=5)\n",
    "gsearch3.fit(X_train[columns], y_train)"
   ]
  },
  {
   "cell_type": "code",
   "execution_count": 45,
   "id": "ordinary-surfing",
   "metadata": {},
   "outputs": [
    {
     "data": {
      "text/plain": [
       "({'grad__min_samples_leaf': 1, 'grad__min_samples_split': 40},\n",
       " 0.7328010519365253)"
      ]
     },
     "execution_count": 45,
     "metadata": {},
     "output_type": "execute_result"
    }
   ],
   "source": [
    "gsearch3.best_params_, gsearch3.best_score_"
   ]
  },
  {
   "cell_type": "code",
   "execution_count": 46,
   "id": "novel-norway",
   "metadata": {},
   "outputs": [],
   "source": [
    "gbm_params.update(gsearch3.best_params_)"
   ]
  },
  {
   "cell_type": "code",
   "execution_count": 47,
   "id": "sonic-kuwait",
   "metadata": {},
   "outputs": [
    {
     "data": {
      "text/plain": [
       "GridSearchCV(cv=5,\n",
       "             estimator=Pipeline(steps=[('imputer', SimpleImputer()),\n",
       "                                       ('grad',\n",
       "                                        GradientBoostingRegressor(max_depth=4,\n",
       "                                                                  min_samples_split=40,\n",
       "                                                                  n_estimators=60,\n",
       "                                                                  random_state=0))]),\n",
       "             param_grid={'grad__max_features': ['sqrt', 'auto', 'log2']},\n",
       "             scoring='r2')"
      ]
     },
     "execution_count": 47,
     "metadata": {},
     "output_type": "execute_result"
    }
   ],
   "source": [
    "param_test4 = {\n",
    "    'grad__max_features': ['sqrt', 'auto', 'log2'],\n",
    "}\n",
    "\n",
    "gsearch4 = GridSearchCV(estimator = grad_pipe.set_params(**gbm_params), param_grid=param_test4, scoring='r2', cv=5)\n",
    "gsearch4.fit(X_train[columns], y_train)"
   ]
  },
  {
   "cell_type": "code",
   "execution_count": 48,
   "id": "married-state",
   "metadata": {},
   "outputs": [
    {
     "data": {
      "text/plain": [
       "({'grad__max_features': 'auto'}, 0.7328010519365253)"
      ]
     },
     "execution_count": 48,
     "metadata": {},
     "output_type": "execute_result"
    }
   ],
   "source": [
    "gsearch4.best_params_, gsearch4.best_score_"
   ]
  },
  {
   "cell_type": "code",
   "execution_count": 49,
   "id": "amended-residence",
   "metadata": {},
   "outputs": [],
   "source": [
    "gbm_params.update(gsearch4.best_params_)"
   ]
  },
  {
   "cell_type": "code",
   "execution_count": 50,
   "id": "lesbian-brooklyn",
   "metadata": {},
   "outputs": [
    {
     "data": {
      "text/plain": [
       "GridSearchCV(cv=5,\n",
       "             estimator=Pipeline(steps=[('imputer', SimpleImputer()),\n",
       "                                       ('grad',\n",
       "                                        GradientBoostingRegressor(max_depth=4,\n",
       "                                                                  max_features='auto',\n",
       "                                                                  min_samples_split=40,\n",
       "                                                                  n_estimators=60,\n",
       "                                                                  random_state=0))]),\n",
       "             param_grid={'grad__n_estimators': range(50, 1000, 50)},\n",
       "             scoring='r2')"
      ]
     },
     "execution_count": 50,
     "metadata": {},
     "output_type": "execute_result"
    }
   ],
   "source": [
    "param_test5 = {\n",
    "    'grad__n_estimators': range(50, 1000, 50),\n",
    "}\n",
    "\n",
    "gsearch5 = GridSearchCV(estimator = grad_pipe.set_params(**gbm_params), param_grid=param_test5, scoring='r2', cv=5)\n",
    "gsearch5.fit(X_train[columns], y_train)"
   ]
  },
  {
   "cell_type": "code",
   "execution_count": 51,
   "id": "distributed-visiting",
   "metadata": {},
   "outputs": [
    {
     "data": {
      "text/plain": [
       "({'grad__n_estimators': 100}, 0.7329996865332408)"
      ]
     },
     "execution_count": 51,
     "metadata": {},
     "output_type": "execute_result"
    }
   ],
   "source": [
    "gsearch5.best_params_, gsearch5.best_score_"
   ]
  },
  {
   "cell_type": "code",
   "execution_count": 52,
   "id": "efficient-algeria",
   "metadata": {},
   "outputs": [],
   "source": [
    "gbm_params.update(gsearch5.best_params_)"
   ]
  },
  {
   "cell_type": "code",
   "execution_count": 53,
   "id": "charming-measurement",
   "metadata": {},
   "outputs": [
    {
     "data": {
      "text/plain": [
       "{'grad__n_estimators': 100,\n",
       " 'grad__max_depth': 4,\n",
       " 'grad__min_samples_split': 40,\n",
       " 'grad__min_samples_leaf': 1,\n",
       " 'grad__max_features': 'auto'}"
      ]
     },
     "execution_count": 53,
     "metadata": {},
     "output_type": "execute_result"
    }
   ],
   "source": [
    "gbm_params"
   ]
  },
  {
   "cell_type": "code",
   "execution_count": 54,
   "id": "democratic-brighton",
   "metadata": {},
   "outputs": [
    {
     "name": "stdout",
     "output_type": "stream",
     "text": [
      "r2 = 0.7329996865332408 +- 0.11144137357215075\n"
     ]
    }
   ],
   "source": [
    "cross_val_model(grad_pipe.set_params(**gbm_params), X_train[columns], y_train, scoring='r2', cv=5)"
   ]
  },
  {
   "cell_type": "code",
   "execution_count": 55,
   "id": "annual-accident",
   "metadata": {},
   "outputs": [
    {
     "data": {
      "text/plain": [
       "0.6709337823313424"
      ]
     },
     "execution_count": 55,
     "metadata": {},
     "output_type": "execute_result"
    }
   ],
   "source": [
    "model = grad_pipe.set_params(**gbm_params)\n",
    "\n",
    "check_test(model, X_train[columns], y_train, X_test[columns], y_test)"
   ]
  },
  {
   "cell_type": "markdown",
   "id": "juvenile-moscow",
   "metadata": {},
   "source": [
    "### Random Forest"
   ]
  },
  {
   "cell_type": "code",
   "execution_count": 56,
   "id": "based-booking",
   "metadata": {},
   "outputs": [
    {
     "name": "stdout",
     "output_type": "stream",
     "text": [
      "Fitting 5 folds for each of 150 candidates, totalling 750 fits\n"
     ]
    },
    {
     "data": {
      "text/plain": [
       "GridSearchCV(cv=5,\n",
       "             estimator=Pipeline(steps=[('imputer', SimpleImputer()),\n",
       "                                       ('rf',\n",
       "                                        RandomForestRegressor(random_state=0))]),\n",
       "             param_grid={'rf__criterion': ['mse', 'mae'],\n",
       "                         'rf__max_features': ['auto', 'sqrt', 'log2'],\n",
       "                         'rf__min_samples_leaf': range(1, 10, 2),\n",
       "                         'rf__min_samples_split': range(2, 11, 2)},\n",
       "             scoring='r2', verbose=1)"
      ]
     },
     "execution_count": 56,
     "metadata": {},
     "output_type": "execute_result"
    }
   ],
   "source": [
    "rf_final = {}\n",
    "\n",
    "rf_params = {\n",
    "    'rf__criterion': ['mse', 'mae'],\n",
    "    'rf__min_samples_split': range(2, 11, 2),\n",
    "    'rf__min_samples_leaf': range(1, 10, 2),\n",
    "    'rf__max_features': ['auto', 'sqrt', 'log2'],\n",
    "}\n",
    "\n",
    "gsearch_rf = GridSearchCV(estimator=rf_pipe, param_grid=rf_params, scoring='r2', cv=5, verbose=1)\n",
    "gsearch_rf.fit(X_train[columns], y_train)"
   ]
  },
  {
   "cell_type": "code",
   "execution_count": 57,
   "id": "olive-miller",
   "metadata": {},
   "outputs": [
    {
     "data": {
      "text/plain": [
       "(0.6762408986281828,\n",
       " {'rf__criterion': 'mse',\n",
       "  'rf__max_features': 'auto',\n",
       "  'rf__min_samples_leaf': 1,\n",
       "  'rf__min_samples_split': 4})"
      ]
     },
     "execution_count": 57,
     "metadata": {},
     "output_type": "execute_result"
    }
   ],
   "source": [
    "gsearch_rf.best_score_, gsearch_rf.best_params_"
   ]
  },
  {
   "cell_type": "code",
   "execution_count": 58,
   "id": "engaged-papua",
   "metadata": {},
   "outputs": [],
   "source": [
    "rf_final.update(gsearch_rf.best_params_)"
   ]
  },
  {
   "cell_type": "code",
   "execution_count": 59,
   "id": "eleven-creation",
   "metadata": {},
   "outputs": [
    {
     "name": "stdout",
     "output_type": "stream",
     "text": [
      "Fitting 5 folds for each of 10 candidates, totalling 50 fits\n"
     ]
    },
    {
     "data": {
      "text/plain": [
       "GridSearchCV(cv=5,\n",
       "             estimator=Pipeline(steps=[('imputer', SimpleImputer()),\n",
       "                                       ('rf',\n",
       "                                        RandomForestRegressor(min_samples_split=4,\n",
       "                                                              random_state=0))]),\n",
       "             param_grid={'rf__n_estimators': range(50, 1000, 100)},\n",
       "             scoring='r2', verbose=1)"
      ]
     },
     "execution_count": 59,
     "metadata": {},
     "output_type": "execute_result"
    }
   ],
   "source": [
    "rf_params_estimators = {\n",
    "    'rf__n_estimators': range(50, 1000, 100),\n",
    "}\n",
    "\n",
    "gsearch_rf_est = GridSearchCV(estimator=rf_pipe.set_params(**rf_final), param_grid=rf_params_estimators, scoring='r2', cv=5, verbose=1)\n",
    "gsearch_rf_est.fit(X_train[columns], y_train)"
   ]
  },
  {
   "cell_type": "code",
   "execution_count": 60,
   "id": "miniature-strike",
   "metadata": {},
   "outputs": [
    {
     "data": {
      "text/plain": [
       "(0.6936679114163861, {'rf__n_estimators': 750})"
      ]
     },
     "execution_count": 60,
     "metadata": {},
     "output_type": "execute_result"
    }
   ],
   "source": [
    "gsearch_rf_est.best_score_, gsearch_rf_est.best_params_"
   ]
  },
  {
   "cell_type": "code",
   "execution_count": 61,
   "id": "noted-composer",
   "metadata": {},
   "outputs": [],
   "source": [
    "rf_final.update(gsearch_rf_est.best_params_)"
   ]
  },
  {
   "cell_type": "code",
   "execution_count": 62,
   "id": "fossil-check",
   "metadata": {},
   "outputs": [
    {
     "data": {
      "text/plain": [
       "{'rf__criterion': 'mse',\n",
       " 'rf__max_features': 'auto',\n",
       " 'rf__min_samples_leaf': 1,\n",
       " 'rf__min_samples_split': 4,\n",
       " 'rf__n_estimators': 750}"
      ]
     },
     "execution_count": 62,
     "metadata": {},
     "output_type": "execute_result"
    }
   ],
   "source": [
    "rf_final"
   ]
  },
  {
   "cell_type": "code",
   "execution_count": 63,
   "id": "bright-spank",
   "metadata": {},
   "outputs": [
    {
     "name": "stdout",
     "output_type": "stream",
     "text": [
      "r2 = 0.6936679114163861 +- 0.08359443690904708\n"
     ]
    }
   ],
   "source": [
    "cross_val_model(rf_pipe.set_params(**rf_final), X_train[columns], y_train, scoring='r2', cv=5)"
   ]
  },
  {
   "cell_type": "code",
   "execution_count": 64,
   "id": "demographic-sewing",
   "metadata": {},
   "outputs": [
    {
     "data": {
      "text/plain": [
       "0.6268549219656455"
      ]
     },
     "execution_count": 64,
     "metadata": {},
     "output_type": "execute_result"
    }
   ],
   "source": [
    "model = rf_pipe.set_params(**rf_final)\n",
    "\n",
    "check_test(model, X_train[columns], y_train, X_test[columns], y_test)"
   ]
  },
  {
   "cell_type": "markdown",
   "id": "alike-galaxy",
   "metadata": {},
   "source": [
    "### Важность признаков"
   ]
  },
  {
   "cell_type": "code",
   "execution_count": 65,
   "id": "indie-consolidation",
   "metadata": {},
   "outputs": [
    {
     "data": {
      "text/plain": [
       "Pipeline(steps=[('imputer', SimpleImputer()),\n",
       "                ('grad',\n",
       "                 GradientBoostingRegressor(max_depth=4, max_features='auto',\n",
       "                                           min_samples_split=40,\n",
       "                                           random_state=0))])"
      ]
     },
     "execution_count": 65,
     "metadata": {},
     "output_type": "execute_result"
    }
   ],
   "source": [
    "rf_model = rf_pipe.set_params(**rf_final)\n",
    "gb_model = grad_pipe.set_params(**gbm_params)\n",
    "\n",
    "\n",
    "rf_model.fit(X_train[columns], y_train)\n",
    "gb_model.fit(X_train[columns], y_train)"
   ]
  },
  {
   "cell_type": "markdown",
   "id": "acceptable-country",
   "metadata": {},
   "source": [
    "#### Важность признаков для RF"
   ]
  },
  {
   "cell_type": "code",
   "execution_count": 66,
   "id": "popular-qatar",
   "metadata": {},
   "outputs": [
    {
     "name": "stdout",
     "output_type": "stream",
     "text": [
      "0.3855784087021679 --- authors_mean_rank\n",
      "0.35197390540367135 --- recency\n",
      "0.10809401962662567 --- journal_rank\n",
      "0.03442752278133549 --- abstract_len\n",
      "0.03138308338492164 --- diversity\n",
      "0.027503161114144678 --- topic_rank\n",
      "0.02257952578339816 --- title_len\n",
      "0.010545445042690713 --- n_authors\n",
      "0.010512785749506199 --- authors_mean_sociality\n",
      "0.010045849234028471 --- log_authors_mean_sociality\n",
      "0.0039139043764149 --- authors_mean_gindex\n",
      "0.00344238880109476 --- authors_mean_hindex\n"
     ]
    }
   ],
   "source": [
    "for imp, feature in reversed(sorted(zip(rf_model['rf'].feature_importances_, columns))):\n",
    "    print(f'{imp} --- {feature}')"
   ]
  },
  {
   "cell_type": "markdown",
   "id": "controversial-reach",
   "metadata": {},
   "source": [
    "#### Важность признаков для GradientBoostingRegressor"
   ]
  },
  {
   "cell_type": "code",
   "execution_count": 67,
   "id": "saved-conviction",
   "metadata": {},
   "outputs": [
    {
     "name": "stdout",
     "output_type": "stream",
     "text": [
      "0.5392139804171512 --- authors_mean_rank\n",
      "0.3738324371201833 --- recency\n",
      "0.03761067762515614 --- journal_rank\n",
      "0.013700272288607263 --- diversity\n",
      "0.013670871590019429 --- abstract_len\n",
      "0.007512795769323515 --- n_authors\n",
      "0.0035690784033866703 --- authors_mean_sociality\n",
      "0.0030759135844914583 --- topic_rank\n",
      "0.003027013432746099 --- title_len\n",
      "0.00239510045868097 --- log_authors_mean_sociality\n",
      "0.0012863632496749127 --- authors_mean_hindex\n",
      "0.0011054960605790508 --- authors_mean_gindex\n"
     ]
    }
   ],
   "source": [
    "for imp, feature in reversed(sorted(zip(gb_model['grad'].feature_importances_, columns))):\n",
    "    print(f'{imp} --- {feature}')"
   ]
  },
  {
   "cell_type": "markdown",
   "id": "third-water",
   "metadata": {},
   "source": [
    "#### Вывод\n",
    "\n",
    "По данным важностям фичей видно, что наибольший вклад в цитируемость статей вносится новизной, средним рангом авторов и рангом журнала, что достаточно ожидаемо. Возможно, были бы значимыми фичами также год написания статьи или страна, а также текстовая информация или ключевые слова из статей."
   ]
  },
  {
   "cell_type": "markdown",
   "id": "particular-proposition",
   "metadata": {},
   "source": [
    "### Blending of models"
   ]
  },
  {
   "cell_type": "code",
   "execution_count": 68,
   "id": "original-egypt",
   "metadata": {},
   "outputs": [
    {
     "data": {
      "application/vnd.jupyter.widget-view+json": {
       "model_id": "56ad55af65b149358e72064e0fbd449c",
       "version_major": 2,
       "version_minor": 0
      },
      "text/plain": [
       "  0%|          | 0/11 [00:00<?, ?it/s]"
      ]
     },
     "metadata": {},
     "output_type": "display_data"
    },
    {
     "name": "stdout",
     "output_type": "stream",
     "text": [
      "Best blending: alpha = 1.0, result = 0.6709337823313424\n"
     ]
    }
   ],
   "source": [
    "blend_params = np.linspace(0, 1, 11)\n",
    "\n",
    "alpha_res = {}\n",
    "for alpha in tqdm(blend_params):\n",
    "    preds = alpha * gb_model.predict(X_test[columns]) + (1 - alpha) * rf_model.predict(X_test[columns])\n",
    "    alpha_res[r2_score(y_test, preds)] = alpha\n",
    "\n",
    "key = max(alpha_res)\n",
    "print(f'Best blending: alpha = {alpha_res[key]}, result = {key}')"
   ]
  }
 ],
 "metadata": {
  "kernelspec": {
   "display_name": "Python 3",
   "language": "python",
   "name": "python3"
  },
  "language_info": {
   "codemirror_mode": {
    "name": "ipython",
    "version": 3
   },
   "file_extension": ".py",
   "mimetype": "text/x-python",
   "name": "python",
   "nbconvert_exporter": "python",
   "pygments_lexer": "ipython3",
   "version": "3.9.4"
  }
 },
 "nbformat": 4,
 "nbformat_minor": 5
}
